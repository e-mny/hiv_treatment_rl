{
 "cells": [
  {
   "cell_type": "code",
   "execution_count": null,
   "id": "b2a47f52",
   "metadata": {},
   "outputs": [],
   "source": [
    "import pandas as pd\n",
    "import sys\n",
    "import os\n",
    "sys.path.append(os.path.abspath(os.path.join(os.getcwd(), '..')))"
   ]
  },
  {
   "cell_type": "code",
   "execution_count": null,
   "id": "db20ff89",
   "metadata": {},
   "outputs": [],
   "source": [
    "df = pd.read_csv(\"data/HealthGymV2_CbdrhDatathon_ART4HIV.csv\")\n",
    "df"
   ]
  }
 ],
 "metadata": {
  "language_info": {
   "name": "python"
  }
 },
 "nbformat": 4,
 "nbformat_minor": 5
}
